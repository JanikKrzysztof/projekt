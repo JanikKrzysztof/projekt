{
  "nbformat": 4,
  "nbformat_minor": 0,
  "metadata": {
    "colab": {
      "name": "Praca inżynierska",
      "provenance": [],
      "toc_visible": true,
      "mount_file_id": "13ej90Xi0ziDOx2VzT5yG3iB3pr37CMxf",
      "authorship_tag": "ABX9TyP3zHC7yna0FGLkJtT3HMy8",
      "include_colab_link": true
    },
    "kernelspec": {
      "display_name": "Python 3",
      "name": "python3"
    },
    "language_info": {
      "name": "python"
    }
  },
  "cells": [
    {
      "cell_type": "markdown",
      "metadata": {
        "id": "view-in-github",
        "colab_type": "text"
      },
      "source": [
        "<a href=\"https://colab.research.google.com/github/JanikKrzysztof/projekt/blob/main/Praca_in%C5%BCynierska.ipynb\" target=\"_parent\"><img src=\"https://colab.research.google.com/assets/colab-badge.svg\" alt=\"Open In Colab\"/></a>"
      ]
    },
    {
      "cell_type": "markdown",
      "metadata": {
        "id": "Y4uZbq_yD8nb"
      },
      "source": [
        "# Deskryptory molekularne a czas rezydencji leku w celu molekularnym"
      ]
    },
    {
      "cell_type": "markdown",
      "metadata": {
        "id": "G1Ow9UYj64Ll"
      },
      "source": [
        "# Przygotowanie środowiska"
      ]
    },
    {
      "cell_type": "code",
      "metadata": {
        "id": "uyfFc8VufUyl"
      },
      "source": [
        "\n",
        "! wget https://repo.anaconda.com/miniconda/Miniconda3-py37_4.8.2-Linux-x86_64.sh\n",
        "! chmod +x Miniconda3-py37_4.8.2-Linux-x86_64.sh\n",
        "! bash ./Miniconda3-py37_4.8.2-Linux-x86_64.sh -b -f -p /usr/local\n",
        "import sys\n",
        "sys.path.append('/usr/local/lib/python3.7/site-packages/')"
      ],
      "execution_count": null,
      "outputs": []
    },
    {
      "cell_type": "code",
      "metadata": {
        "id": "QD319lDvf6Xp"
      },
      "source": [
        "! conda install -c rdkit rdkit -y"
      ],
      "execution_count": null,
      "outputs": []
    },
    {
      "cell_type": "code",
      "metadata": {
        "id": "Hd4bRMgJ91zE"
      },
      "source": [
        "! conda install -c anaconda scipy -y"
      ],
      "execution_count": null,
      "outputs": []
    },
    {
      "cell_type": "code",
      "metadata": {
        "id": "-TgSLiGi1brY"
      },
      "source": [
        "! pip3 install --upgrade MDAnalysis"
      ],
      "execution_count": null,
      "outputs": []
    },
    {
      "cell_type": "code",
      "metadata": {
        "id": "gqguNm6OKUwm"
      },
      "source": [
        "! conda install numpy=1.20 -y"
      ],
      "execution_count": null,
      "outputs": []
    },
    {
      "cell_type": "code",
      "metadata": {
        "id": "ah_7nxRvs7ZJ"
      },
      "source": [
        "%cd /content/drive/MyDrive/Colab_Notebooks/ProLIF-master/\n",
        "!python setup.py install"
      ],
      "execution_count": null,
      "outputs": []
    },
    {
      "cell_type": "code",
      "metadata": {
        "id": "YJiYxVodKHoS"
      },
      "source": [
        "import rdkit\n",
        "from rdkit import Chem\n",
        "from rdkit.Chem import Draw\n",
        "from rdkit.Chem.Draw import IPythonConsole\n",
        "from rdkit.Chem import Descriptors\n",
        "from rdkit.Chem import AllChem\n",
        "from rdkit import DataStructs\n",
        "from rdkit.Chem import Descriptors\n",
        "import os\n",
        "import pandas as pd\n",
        "from rdkit.Chem import PandasTools\n",
        "from rdkit.Chem import Lipinski\n",
        "from rdkit.Chem import GraphDescriptors\n",
        "import MDAnalysis as mda\n",
        "import numpy as np\n",
        "import prolif\n",
        "from rdkit.Chem import Descriptors3D\n",
        "from rdkit.Chem import rdMolDescriptors\n"
      ],
      "execution_count": null,
      "outputs": []
    },
    {
      "cell_type": "markdown",
      "metadata": {
        "id": "ajb3msSx1C4z"
      },
      "source": [
        "# Załadowanie molekuł"
      ]
    },
    {
      "cell_type": "code",
      "metadata": {
        "id": "YfOZiHgi6ASS"
      },
      "source": [
        "\n",
        "sdf=[]\n",
        "end=('sdf')\n",
        "for item in sorted(os.listdir('/content/drive/MyDrive/Colab_Notebooks/struktury')):\n",
        "  for i in sorted(os.listdir('/content/drive/MyDrive/Colab_Notebooks/struktury/'+item)):\n",
        "    if end in i:\n",
        "      #sdf.append(i)\n",
        "      sdf.append(Chem.SDMolSupplier('/content/drive/MyDrive/Colab_Notebooks/struktury/'+item+'/'+i)) \n",
        "      \n"
      ],
      "execution_count": null,
      "outputs": []
    },
    {
      "cell_type": "code",
      "metadata": {
        "id": "H5zsX8Ue_qbE"
      },
      "source": [
        "pdb=[]\n",
        "end=('protein.pdb')\n",
        "for item in sorted(os.listdir('/content/drive/MyDrive/Colab_Notebooks/struktury')):\n",
        "  for i in sorted(os.listdir('/content/drive/MyDrive/Colab_Notebooks/struktury/'+item)):\n",
        "    if end in i:\n",
        "      #pdb.append(i)\n",
        "      pdb.append(Chem.MolFromPDBFile('/content/drive/MyDrive/Colab_Notebooks/struktury/'+item+'/'+i, removeHs=False)) "
      ],
      "execution_count": null,
      "outputs": []
    },
    {
      "cell_type": "code",
      "metadata": {
        "id": "Jr8VT44nc2Rb"
      },
      "source": [
        "sdf2=[]\n",
        "end=('sdf')\n",
        "for item in sorted(os.listdir('/content/drive/MyDrive/Colab_Notebooks/struktury')):\n",
        "  for i in sorted(os.listdir('/content/drive/MyDrive/Colab_Notebooks/struktury/'+item)):\n",
        "    if end in i:\n",
        "      #sdf.append(i)\n",
        "      sdf2.append(prolif.molecule.sdf_supplier('/content/drive/MyDrive/Colab_Notebooks/struktury/'+item+'/'+i))"
      ],
      "execution_count": null,
      "outputs": []
    },
    {
      "cell_type": "markdown",
      "metadata": {
        "id": "ptpapdoy608m"
      },
      "source": [
        "# Obliczanie deskryptorów i fingerprintów"
      ]
    },
    {
      "cell_type": "code",
      "metadata": {
        "id": "tPi8TJOECF_k"
      },
      "source": [
        "\n",
        "DD=[]\n",
        "for i in range(56):\n",
        "  D=[]\n",
        "  a=pdb[i]\n",
        "  prot = prolif.Molecule(a)\n",
        "  b=sdf2[i]\n",
        "  for mol in b:\n",
        "    lig= prolif.Molecule(mol)\n",
        "  FP = prolif.Fingerprint()\n",
        "  FP.run_from_iterable([lig], prot)\n",
        "  df_1 = FP.to_dataframe(drop_empty=True)\n",
        "  D=(list(df_1))\n",
        "  DD.append(D)"
      ],
      "execution_count": null,
      "outputs": []
    },
    {
      "cell_type": "code",
      "metadata": {
        "id": "BMIbJP1Gr8rU"
      },
      "source": [
        "a='Hyd'\n",
        "b='Pi'\n",
        "LL=[]\n",
        "for j in DD:\n",
        "  L=[]\n",
        "  hyd=0\n",
        "  pi=0\n",
        "  other=0\n",
        "  for i in j:\n",
        "    if a in i[2]:\n",
        "      hyd=hyd+1\n",
        "    elif b in i[2]:\n",
        "      pi=pi+1\n",
        "    else:\n",
        "      other=other+1\n",
        "  L.append(hyd)\n",
        "  L.append(pi)\n",
        "  L.append(other)\n",
        "  LL.append(L)"
      ],
      "execution_count": null,
      "outputs": []
    },
    {
      "cell_type": "code",
      "metadata": {
        "id": "jUfqajpKlFzx"
      },
      "source": [
        "LL"
      ],
      "execution_count": null,
      "outputs": []
    },
    {
      "cell_type": "code",
      "metadata": {
        "id": "fnWPgssDScog"
      },
      "source": [
        "DescTPSA=[]\n",
        "for suppl in sdf:\n",
        "  for mol in suppl:\n",
        "    if mol is None: continue\n",
        "    DescTPSA.append(Descriptors.TPSA(mol))\n",
        "    \n",
        "\n",
        "DescMlogP=[]  \n",
        "for suppl in sdf:\n",
        "  for mol in suppl:\n",
        "    if mol is None: continue\n",
        "    DescMlogP.append(Descriptors.MolLogP(mol))\n",
        "  \n",
        "\n",
        "  \n",
        "\n"
      ],
      "execution_count": null,
      "outputs": []
    },
    {
      "cell_type": "code",
      "metadata": {
        "id": "Tq718UsXWc2z"
      },
      "source": [
        "DescMolWt=[]  \n",
        "for suppl in sdf:\n",
        "  for mol in suppl:\n",
        "    if mol is None: continue\n",
        "    DescMolWt.append(Descriptors.MolWt(mol))\n",
        "\n",
        "\n",
        "DescHeavyAtMolWt=[]  \n",
        "for suppl in sdf:\n",
        "  for mol in suppl:\n",
        "    if mol is None: continue\n",
        "    DescHeavyAtMolWt.append(Descriptors.HeavyAtomMolWt(mol))\n",
        "\n",
        "DescMorgan1=[]  \n",
        "for suppl in sdf:\n",
        "  for mol in suppl:\n",
        "    if mol is None: continue\n",
        "    DescMorgan1.append(Descriptors.FpDensityMorgan1(mol))\n",
        "\n",
        "DescMorgan2=[]  \n",
        "for suppl in sdf:\n",
        "  for mol in suppl:\n",
        "    if mol is None: continue\n",
        "    DescMorgan2.append(Descriptors.FpDensityMorgan2(mol))\n",
        "\n",
        "DescMorgan3=[]  \n",
        "for suppl in sdf:\n",
        "  for mol in suppl:\n",
        "    if mol is None: continue\n",
        "    DescMorgan3.append(Descriptors.FpDensityMorgan3(mol))\n",
        "\n",
        "\n",
        "DescMaxPCharge=[]\n",
        "for suppl in sdf:\n",
        "  for mol in suppl:\n",
        "    if mol is None: continue\n",
        "    DescMaxPCharge.append(Descriptors.MaxAbsPartialCharge(mol, force=False))\n",
        "\n",
        "DescMinPCharge=[]\n",
        "for suppl in sdf:\n",
        "  for mol in suppl:\n",
        "    if mol is None: continue\n",
        "    DescMinPCharge.append(Descriptors.MinAbsPartialCharge(mol, force=False))"
      ],
      "execution_count": null,
      "outputs": []
    },
    {
      "cell_type": "code",
      "metadata": {
        "id": "VrwUTzvVSYxl"
      },
      "source": [
        "\n",
        "DescNPR1=[]  \n",
        "for suppl in sdf:\n",
        "  for mol in suppl:\n",
        "    if mol is None: continue\n",
        "    DescNPR1.append(Descriptors3D.NPR1(mol))\n",
        "\n",
        "DescNPR2=[]  \n",
        "for suppl in sdf:\n",
        "  for mol in suppl:\n",
        "    if mol is None: continue\n",
        "    DescNPR2.append(Descriptors3D.NPR2(mol))\n",
        "\n",
        "\n",
        "DescIShape=[]  \n",
        "for suppl in sdf:\n",
        "  for mol in suppl:\n",
        "    if mol is None: continue\n",
        "    DescIShape.append(Descriptors3D.InertialShapeFactor(mol))\n",
        "\n",
        "DescPMI1=[]  \n",
        "for suppl in sdf:\n",
        "  for mol in suppl:\n",
        "    if mol is None: continue\n",
        "    DescPMI1.append(Descriptors3D.PMI1(mol))\n",
        "\n",
        "DescPMI2=[]  \n",
        "for suppl in sdf:\n",
        "  for mol in suppl:\n",
        "    if mol is None: continue\n",
        "    DescPMI2.append(Descriptors3D.PMI2(mol))\n",
        "\n",
        "DescPMI3=[]  \n",
        "for suppl in sdf:\n",
        "  for mol in suppl:\n",
        "    if mol is None: continue\n",
        "    DescPMI3.append(Descriptors3D.PMI3(mol))\n",
        "\n",
        "DescSphere=[]  \n",
        "for suppl in sdf:\n",
        "  for mol in suppl:\n",
        "    if mol is None: continue\n",
        "    DescSphere.append(Descriptors3D.SpherocityIndex(mol))\n",
        "\n",
        "DescAsphere=[]  \n",
        "for suppl in sdf:\n",
        "  for mol in suppl:\n",
        "    if mol is None: continue\n",
        "    DescAsphere.append(Descriptors3D.Asphericity(mol))"
      ],
      "execution_count": null,
      "outputs": []
    },
    {
      "cell_type": "code",
      "metadata": {
        "id": "dOmNYbCqHKMn"
      },
      "source": [
        "\n",
        "Desc2D=[]\n",
        "for suppl in sdf:\n",
        "   for mol in suppl:\n",
        "      if mol is None: continue\n",
        "      Desc2D.append(rdMolDescriptors.CalcAUTOCORR2D(mol))\n",
        "\n",
        "Desc3D=[]\n",
        "for suppl in sdf:\n",
        "   for mol in suppl:\n",
        "      if mol is None: continue \n",
        "      Desc3D.append(rdMolDescriptors.CalcAUTOCORR3D(mol))\n",
        "\n",
        "DescCalcWHIM=[]\n",
        "for suppl in sdf:\n",
        "   for mol in suppl:\n",
        "      if mol is None: continue \n",
        "      DescCalcWHIM.append(rdMolDescriptors.CalcWHIM(mol))\n",
        "\n",
        "DescCalcFractionCSP3=[]\n",
        "for suppl in sdf:\n",
        "   for mol in suppl:\n",
        "      if mol is None: continue \n",
        "      DescCalcFractionCSP3.append(rdMolDescriptors.CalcFractionCSP3(mol))\n",
        "DescGetUSRCAT=[]\n",
        "for suppl in sdf:\n",
        "   for mol in suppl:\n",
        "      if mol is None: continue \n",
        "      DescGetUSRCAT.append(rdMolDescriptors.GetUSRCAT(mol))\n",
        "\n",
        "DescCalcWHIM=[]\n",
        "for suppl in sdf:\n",
        "   for mol in suppl:\n",
        "      if mol is None: continue \n",
        "      DescCalcWHIM.append(rdMolDescriptors.CalcWHIM(mol))\n",
        "\n",
        "DescCalcNumLipinskiHBD=[]\n",
        "for suppl in sdf:\n",
        "   for mol in suppl:\n",
        "      if mol is None: continue \n",
        "      DescCalcNumLipinskiHBD.append(rdMolDescriptors.CalcNumLipinskiHBD(mol))      \n",
        "\n",
        "DescCalcRDF=[]\n",
        "for suppl in sdf:\n",
        "   for mol in suppl:\n",
        "      if mol is None: continue \n",
        "      DescCalcRDF.append(rdMolDescriptors.CalcRDF(mol))\n",
        "DescCalcMORSE=[]\n",
        "for suppl in sdf:\n",
        "   for mol in suppl:\n",
        "      if mol is None: continue \n",
        "      DescCalcMORSE.append(rdMolDescriptors.CalcMORSE(mol))      \n",
        "len(DescCalcNumLipinskiHBD)"
      ],
      "execution_count": null,
      "outputs": []
    },
    {
      "cell_type": "code",
      "metadata": {
        "id": "0aiD7QdH2ITF"
      },
      "source": [
        "\n",
        "DescGraf=[]  \n",
        "for suppl in sdf:\n",
        "  for mol in suppl:\n",
        "    if mol is None: continue\n",
        "    DescGraf.append(GraphDescriptors.BertzCT(mol))\n",
        "\n",
        "\n",
        "DescGrafCh0=[]  \n",
        "for suppl in sdf:\n",
        "  for mol in suppl:\n",
        "    if mol is None: continue\n",
        "    DescGrafCh0.append(GraphDescriptors.Chi0(mol))\n",
        "\n",
        "\n",
        "DescGrafIpc=[]  \n",
        "for suppl in sdf:\n",
        "  for mol in suppl:\n",
        "    if mol is None: continue\n",
        "    DescGrafIpc.append(GraphDescriptors.Ipc(mol))\n",
        "\n",
        "\n",
        "DescGrafKappa=[]  \n",
        "for suppl in sdf:\n",
        "  for mol in suppl:\n",
        "    if mol is None: continue\n",
        "    DescGrafKappa.append(GraphDescriptors.Kappa1(mol))"
      ],
      "execution_count": null,
      "outputs": []
    },
    {
      "cell_type": "code",
      "metadata": {
        "id": "MsZ0874YGRHO"
      },
      "source": [
        "\n",
        "DescNumHDonors = []\n",
        "for suppl in sdf:\n",
        "  for mol in suppl:\n",
        "    if mol is None: continue\n",
        "    DescNumHDonors.append(Lipinski.NumHDonors(mol))\n",
        "DescNumHAcceptors = []\n",
        "for suppl in sdf:\n",
        "  for mol in suppl:\n",
        "    if mol is None: continue\n",
        "    DescNumHAcceptors.append(Lipinski.NumHAcceptors(mol))\n",
        "\n",
        "\n",
        "DescValenc=[]\n",
        "for suppl in sdf:\n",
        "  for mol in suppl:\n",
        "    if mol is None: continue\n",
        "    DescValenc.append(rdkit.Chem.Descriptors.NumValenceElectrons(mol))\n",
        "\n"
      ],
      "execution_count": null,
      "outputs": []
    },
    {
      "cell_type": "code",
      "metadata": {
        "id": "PUlqTiuzGwSK"
      },
      "source": [
        ""
      ],
      "execution_count": null,
      "outputs": []
    },
    {
      "cell_type": "markdown",
      "metadata": {
        "id": "ImZZOuKJGx_3"
      },
      "source": [
        "# Badanie korelacji"
      ]
    },
    {
      "cell_type": "code",
      "metadata": {
        "id": "beTKCqg8k7Af"
      },
      "source": [
        "df_DescMolWt = pd.DataFrame.from_dict(DescMolWt)\n",
        "df_DescMlogP = pd.DataFrame.from_dict(DescMlogP)\n",
        "df_DescNumHAcceptors = pd.DataFrame.from_dict(DescNumHAcceptors)\n",
        "df_DescNPR2 = pd.DataFrame.from_dict(DescNPR2)\n",
        "df_DescValenc = pd.DataFrame.from_dict(DescValenc)\n",
        "df_DescAsphere = pd.DataFrame.from_dict(DescAsphere)\n",
        "df_DescSphere = pd.DataFrame.from_dict(DescSphere)\n",
        "df_DescHeavyAtMolWt = pd.DataFrame.from_dict(DescHeavyAtMolWt)\n",
        "df_DescPMI1 = pd.DataFrame.from_dict(DescPMI1)\n",
        "df_DescPMI2 = pd.DataFrame.from_dict(DescPMI2)\n",
        "df_DescPMI3 = pd.DataFrame.from_dict(DescPMI3)\n",
        "Deskryptory=pd.concat([df_DescMolWt, df_DescMlogP,df_DescNumHAcceptors,df_DescNPR2, df_DescValenc,df_DescAsphere,df_DescSphere,df_DescHeavyAtMolWt, df_DescPMI1, df_DescPMI2,df_DescPMI3], axis=1)\n",
        "Deskryptory"
      ],
      "execution_count": null,
      "outputs": []
    },
    {
      "cell_type": "code",
      "metadata": {
        "id": "UG6OH935_8_f"
      },
      "source": [
        "residence_time=pd.read_excel('/content/drive/MyDrive/Colab_Notebooks/residence_time.xlsx')\n",
        "print(residence_time)"
      ],
      "execution_count": null,
      "outputs": []
    },
    {
      "cell_type": "code",
      "metadata": {
        "id": "0sXWhEtwoV9H"
      },
      "source": [
        "rt=residence_time[0:56]\n",
        "df_rt=pd.DataFrame.from_dict(rt)\n",
        "RT=df_rt.drop('ID',axis=1)\n",
        "RT"
      ],
      "execution_count": null,
      "outputs": []
    },
    {
      "cell_type": "code",
      "metadata": {
        "id": "mVqwFLPizW3r"
      },
      "source": [
        "time=RT[['time']].to_numpy()\n",
        "time=np.concatenate(time)"
      ],
      "execution_count": null,
      "outputs": []
    },
    {
      "cell_type": "code",
      "metadata": {
        "id": "Y4y4EEAykX14"
      },
      "source": [
        "df_2D=pd.DataFrame.from_dict(Desc2D)\n",
        "df_3D=pd.DataFrame.from_dict(Desc3D)\n"
      ],
      "execution_count": null,
      "outputs": []
    },
    {
      "cell_type": "code",
      "metadata": {
        "id": "2UcFPRUcL6VB"
      },
      "source": [
        "df_test=pd.DataFrame.from_dict(LL)\n",
        "M=len(LL[1])\n",
        "df_test"
      ],
      "execution_count": null,
      "outputs": []
    },
    {
      "cell_type": "code",
      "metadata": {
        "id": "qE4RqW-NH1qc"
      },
      "source": [
        "for i in range(M):\n",
        "  print('hej')"
      ],
      "execution_count": null,
      "outputs": []
    },
    {
      "cell_type": "code",
      "metadata": {
        "id": "lwuepCUDwwxC"
      },
      "source": [
        "#Test korelacji dla pojedynczych deskryptorów\n",
        "import scipy.stats as stats\n",
        "data = {\"Column 1\":time, \n",
        "        \"Column 2\":DescSphere} \n",
        "df = pd.DataFrame(data)\n",
        "a=(df.corr(method='pearson'))\n",
        "a.iloc[1,0]"
      ],
      "execution_count": null,
      "outputs": []
    },
    {
      "cell_type": "code",
      "metadata": {
        "id": "qD7jQ5Qhkxx0"
      },
      "source": [
        "#Test korelacji dla zbiorów deskryptorów\n",
        "T2=[]\n",
        "Index=[]\n",
        "for i in range(M):\n",
        "  T2=df_test.iloc[:,i]\n",
        "  data = {\"Column 1\":time, \n",
        "          \"Column 2\":T2} \n",
        "  df = pd.DataFrame(data)\n",
        "  a=(df.corr(method='pearson'))\n",
        "  if abs(a.iloc[1,0])>0.05:\n",
        "    Index.append(i)\n",
        "    #Index.append(a.iloc[1,0])\n",
        "Index\n"
      ],
      "execution_count": null,
      "outputs": []
    },
    {
      "cell_type": "code",
      "metadata": {
        "id": "abQ2AVErw4X1"
      },
      "source": [
        "#Tworzenie zbioru deskryptorów o najwyższej korelacji z czasem rezydencji.\n",
        "df=df_test\n",
        "DescElim = df[df.columns[Index]]\n",
        "DescElim\n",
        "\n"
      ],
      "execution_count": null,
      "outputs": []
    },
    {
      "cell_type": "code",
      "metadata": {
        "id": "TqvIjz2F_qJh"
      },
      "source": [
        ""
      ],
      "execution_count": null,
      "outputs": []
    },
    {
      "cell_type": "markdown",
      "metadata": {
        "id": "7WfJdusq_qx6"
      },
      "source": [
        "#Regresja"
      ]
    },
    {
      "cell_type": "code",
      "metadata": {
        "id": "eOjt0YIanPeY"
      },
      "source": [
        "import seaborn as sns\n",
        "from sklearn.model_selection import train_test_split\n",
        "from sklearn.ensemble import RandomForestRegressor\n",
        "from sklearn.metrics import r2_score"
      ],
      "execution_count": null,
      "outputs": []
    },
    {
      "cell_type": "code",
      "metadata": {
        "id": "_KMQNSxviba3"
      },
      "source": [
        "#Wydzielenie zbiorów uczących i testowych\n",
        "X_train, X_test, Y_train, Y_test = train_test_split(LL, RT, test_size=0.2)\n"
      ],
      "execution_count": null,
      "outputs": []
    },
    {
      "cell_type": "code",
      "metadata": {
        "id": "uPptsMgTibPO"
      },
      "source": [
        "#Model 1\n",
        "model = RandomForestRegressor(n_estimators=100)\n",
        "model.fit(X_train, Y_train)\n",
        "r2_1 = model.score(X_test, Y_test)\n",
        "Y_pred = model.predict(X_test)\n",
        "R2_1=r2_score(Y_test, Y_pred)"
      ],
      "execution_count": null,
      "outputs": []
    },
    {
      "cell_type": "code",
      "metadata": {
        "id": "Do1Yv-G1s8uV"
      },
      "source": [
        "import seaborn as sns\n",
        "import matplotlib.pyplot as plt\n",
        "\n",
        "sns.set(color_codes=True)\n",
        "sns.set_style(\"white\")\n",
        "\n",
        "ax = sns.regplot(Y_test, Y_pred, scatter_kws={'alpha':0.4})"
      ],
      "execution_count": null,
      "outputs": []
    },
    {
      "cell_type": "code",
      "metadata": {
        "id": "CkhtJfU0uZXi"
      },
      "source": [
        "#Model 2\n",
        "from sklearn.tree import DecisionTreeRegressor\n",
        "dt=DecisionTreeRegressor()\n",
        "dt.fit(X_train,Y_train)\n",
        "Y_pred = model.predict(X_test)\n",
        "r2_2=dt.score(X_test,Y_test)\n",
        "R2_2=r2_score(Y_test, Y_pred)"
      ],
      "execution_count": null,
      "outputs": []
    },
    {
      "cell_type": "code",
      "metadata": {
        "id": "Sbw1fuHaCe_v"
      },
      "source": [
        "\n",
        "ax = sns.regplot(Y_test, Y_pred)"
      ],
      "execution_count": null,
      "outputs": []
    },
    {
      "cell_type": "code",
      "metadata": {
        "id": "aw6RPZOpgBBo"
      },
      "source": [
        "#Model 3\n",
        "from sklearn.cross_decomposition import PLSRegression\n",
        "pls2 = PLSRegression(n_components=2)\n",
        "pls2.fit(X_train, Y_train)\n",
        "Y_pred = pls2.predict(X_test)\n",
        "r2_3=dt.score(X_test,Y_test)\n",
        "R2_3=r2_score(Y_test, Y_pred)"
      ],
      "execution_count": null,
      "outputs": []
    },
    {
      "cell_type": "code",
      "metadata": {
        "id": "f4nfeUVII_R2"
      },
      "source": [
        "\n",
        "ax = sns.regplot(Y_test, Y_pred)#, scatter_kws={'alpha':0.5})"
      ],
      "execution_count": null,
      "outputs": []
    }
  ]
}